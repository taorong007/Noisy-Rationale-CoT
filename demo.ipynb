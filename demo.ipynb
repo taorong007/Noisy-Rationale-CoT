{
 "cells": [
  {
   "cell_type": "code",
   "execution_count": 1,
   "metadata": {},
   "outputs": [
    {
     "data": {
      "text/plain": [
       "{'id': 'chatcmpl-8K406Vugbl5SwdALIXFThJ14X9HbI',\n",
       " 'object': 'chat.completion',\n",
       " 'created': 1699792630,\n",
       " 'model': 'gpt-35-turbo-16k',\n",
       " 'choices': [{'index': 0,\n",
       "   'message': {'role': 'assistant',\n",
       "    'content': 'Hello! How can I assist you today?'},\n",
       "   'finish_reason': 'stop'}],\n",
       " 'usage': {'prompt_tokens': 9, 'completion_tokens': 9, 'total_tokens': 18}}"
      ]
     },
     "execution_count": 1,
     "metadata": {},
     "output_type": "execute_result"
    }
   ],
   "source": [
    "import requests\n",
    "apiKey = '0722e051-b716-4b53-9f56-417c147027fa'\n",
    "basicUrl = \"https://chatgpt.hkbu.edu.hk/general/rest\"\n",
    "modelName = \"gpt-35-turbo-16k\"\n",
    "apiVersion = \"2023-08-01-preview\"\n",
    "\n",
    "def submit(message):\n",
    "    conversation = [{\"role\": \"user\", \"content\": message}]\n",
    "    url = basicUrl + \"/deployments/\" + modelName + \"/chat/completions/?api-version=\" + apiVersion\n",
    "    headers = { 'Content-Type': 'application/json', 'api-key': apiKey }\n",
    "    payload = { 'messages': conversation }\n",
    "    response = requests.post(url, json=payload, headers=headers)\n",
    "    if response.status_code == 200:\n",
    "        data = response.json()\n",
    "        return data\n",
    "    else:\n",
    "        return 'Error:', response\n",
    "    \n",
    "submit('hello!')"
   ]
  }
 ],
 "metadata": {
  "kernelspec": {
   "display_name": "torch",
   "language": "python",
   "name": "python3"
  },
  "language_info": {
   "codemirror_mode": {
    "name": "ipython",
    "version": 3
   },
   "file_extension": ".py",
   "mimetype": "text/x-python",
   "name": "python",
   "nbconvert_exporter": "python",
   "pygments_lexer": "ipython3",
   "version": "3.9.18"
  }
 },
 "nbformat": 4,
 "nbformat_minor": 2
}
