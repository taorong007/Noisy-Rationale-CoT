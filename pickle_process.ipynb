{
 "cells": [
  {
   "cell_type": "markdown",
   "metadata": {},
   "source": [
    "## process pickle result for statistics info"
   ]
  },
  {
   "cell_type": "code",
   "execution_count": 1,
   "metadata": {},
   "outputs": [],
   "source": [
    "import os\n",
    "import pickle\n",
    "import re\n",
    "# load pickle\n",
    "class my_pickle:\n",
    "    def __init__(self, file_path) -> None:\n",
    "        with open(file_path, 'rb') as f:\n",
    "            result = pickle.load(f)\n",
    "        if isinstance(result, list):\n",
    "            version = \"old\"\n",
    "        elif isinstance(result, dict):\n",
    "            version = \"new\"\n",
    "        else:\n",
    "            raise ValueError(\"not dict or list type\")\n",
    "        if version == \"old\":\n",
    "            [self.correct_num, self.error_num, self.answers_list, self.contents_list] = result\n",
    "        else:\n",
    "            self.correct_num = result[\"correct_num\"]\n",
    "            self.error_num = result[\"error_num\"]\n",
    "            self.answers_list = result[\"answers_list\"]\n",
    "            self.contents_list = result[\"contents_list\"]\n",
    "        file_name = os.path.basename(file_path)\n",
    "    \n",
    "        \n",
    "    def avg_acc(self, case_num, reason_num):\n",
    "        correct_num = 0\n",
    "        error_num = 0\n",
    "        for case_id in range(case_num):\n",
    "            case_answers = self.answers_list[case_id]\n",
    "            for answer_id in range(reason_num):\n",
    "                answer = case_answers[answer_id]\n",
    "                if isinstance(answer, list):\n",
    "                    if answer[1] == 1:\n",
    "                        correct_num += 1  \n",
    "                    else: \n",
    "                        error_num += 1\n",
    "        print(\"acc:{}, correct num: {}, err num: {}\".format(correct_num / (case_num * reason_num), correct_num, error_num))\n",
    "        \n",
    "        return correct_num / (case_num * reason_num), correct_num, error_num\n",
    "    \n",
    "    def vote(self, case_num, reason_num):\n",
    "        from collections import Counter\n",
    "        valid_count = 0\n",
    "        vote_right_count = 0\n",
    "        for case_id in range(case_num):\n",
    "            answers = self.answers_list[case_id][:reason_num]\n",
    "            answers = [answer for answer in answers if isinstance(answer, list)]  # clean answers\n",
    "            if len(answers) == 0:\n",
    "                continue\n",
    "            else:\n",
    "                valid_count += 1\n",
    "            second_elements_are_1 = [sublist[1] == 1 for sublist in answers]\n",
    "            any_second_element_is_1 = any(second_elements_are_1)\n",
    "            if not any_second_element_is_1:\n",
    "                continue\n",
    "            true_answer = next((sublist[0] for sublist in answers if sublist[1] == 1), None)\n",
    "            counter = Counter(sublist[0] for sublist in answers)\n",
    "            guess_value, _ = counter.most_common(1)[0]\n",
    "            if guess_value == true_answer:\n",
    "                vote_right_count += 1\n",
    "\n",
    "        print(\"vote_correct_num:{}, vaild_num:{}, vote_correct_num:{}\".format(vote_right_count, valid_count, vote_right_count / valid_count))        \n",
    "        "
   ]
  },
  {
   "cell_type": "code",
   "execution_count": 2,
   "metadata": {},
   "outputs": [],
   "source": [
    "# def reset_acc(file_path, case_num, reason_num):\n",
    "#     pattern = re.compile(r'index\\s\\d+/\\d+,\\scorrect_num\\s\\d+,\\serror_num\\s\\d+')\n",
    "#     pattern2 = re.compile(r', correate_rate:0.\\d+')\n",
    "#     accuracy_pattern = re.compile(r'accuracy[^,]*,?')\n",
    "#     # correate_rate_pattern = re.compile(r'correate_rate:[^,]*,?')\n",
    "#     with open(file_path, 'r', encoding=\"utf-8\") as file:\n",
    "#         lines = file.readlines()\n",
    "#     new_lines = []\n",
    "#     for line in lines:\n",
    "#         if pattern.search(line):\n",
    "#             # 如果行包含'accuracy'\n",
    "#             if 'accuracy' in line:\n",
    "#                 line = accuracy_pattern.sub('', line)\n",
    "#             index = int(re.search(r'index\\s(\\d+)/\\d+', line).group(1))\n",
    "#             correct_num = int(re.search(r'correct_num\\s(\\d+)', line).group(1))\n",
    "#             error_num = int(re.search(r'error_num\\s(\\d+)', line).group(1))\n",
    "#             if \"Acc\" not in line:\n",
    "#                 Acc = correct_num/((index+1) * 5 * reason_num)\n",
    "#                 line = line.rstrip('\\n') + f', Acc {correct_num/((index+1) * 5 * reason_num)}\\n'\n",
    "#         if pattern2.search(line):\n",
    "#             print(\"123\")\n",
    "#             print(line)\n",
    "#             line = pattern2.sub('', line)\n",
    "#             line = line.rstrip('\\n') + f', Acc: {Acc}\\n'\n",
    "#         new_lines.append(line)\n",
    "#     file_name = os.path.basename(file_path)\n",
    "#     file_dir = os.path.dirname(file_path)\n",
    "#     if not os.path.exists(os.path.join(file_dir, \"new\")):\n",
    "#         os.makedirs(os.path.join(file_dir, \"new\"))\n",
    "#     with open(os.path.join(file_dir, \"new\", file_name), 'w') as file:\n",
    "#         file.writelines(new_lines)"
   ]
  },
  {
   "cell_type": "code",
   "execution_count": 5,
   "metadata": {},
   "outputs": [
    {
     "name": "stdout",
     "output_type": "stream",
     "text": [
      "./result/math/base-9/gpt-3.5-turbo-0613/method_selfdenoise/log_ICL_3clean_origin_case300.pkl\n"
     ]
    },
    {
     "ename": "FileNotFoundError",
     "evalue": "[Errno 2] No such file or directory: './result/math/base-9/gpt-3.5-turbo-0613/method_selfdenoise/log_ICL_3clean_origin_case300.pkl'",
     "output_type": "error",
     "traceback": [
      "\u001b[1;31m---------------------------------------------------------------------------\u001b[0m",
      "\u001b[1;31mFileNotFoundError\u001b[0m                         Traceback (most recent call last)",
      "Cell \u001b[1;32mIn[5], line 25\u001b[0m\n\u001b[0;32m     22\u001b[0m file_path \u001b[38;5;241m+\u001b[39m\u001b[38;5;241m=\u001b[39m \u001b[38;5;124m\"\u001b[39m\u001b[38;5;124m.pkl\u001b[39m\u001b[38;5;124m\"\u001b[39m\n\u001b[0;32m     24\u001b[0m \u001b[38;5;28mprint\u001b[39m(file_path)\n\u001b[1;32m---> 25\u001b[0m pkl \u001b[38;5;241m=\u001b[39m \u001b[43mmy_pickle\u001b[49m\u001b[43m(\u001b[49m\u001b[43mfile_path\u001b[49m\u001b[43m)\u001b[49m\n\u001b[0;32m     26\u001b[0m \u001b[38;5;28mprint\u001b[39m(pkl\u001b[38;5;241m.\u001b[39mcorrect_num, pkl\u001b[38;5;241m.\u001b[39merror_num)\n\u001b[0;32m     27\u001b[0m \u001b[38;5;66;03m# reset_acc(log_file, case_num, reason_num)\u001b[39;00m\n",
      "Cell \u001b[1;32mIn[1], line 7\u001b[0m, in \u001b[0;36mmy_pickle.__init__\u001b[1;34m(self, file_path)\u001b[0m\n\u001b[0;32m      6\u001b[0m \u001b[38;5;28;01mdef\u001b[39;00m \u001b[38;5;21m__init__\u001b[39m(\u001b[38;5;28mself\u001b[39m, file_path) \u001b[38;5;241m-\u001b[39m\u001b[38;5;241m>\u001b[39m \u001b[38;5;28;01mNone\u001b[39;00m:\n\u001b[1;32m----> 7\u001b[0m     \u001b[38;5;28;01mwith\u001b[39;00m \u001b[38;5;28;43mopen\u001b[39;49m\u001b[43m(\u001b[49m\u001b[43mfile_path\u001b[49m\u001b[43m,\u001b[49m\u001b[43m \u001b[49m\u001b[38;5;124;43m'\u001b[39;49m\u001b[38;5;124;43mrb\u001b[39;49m\u001b[38;5;124;43m'\u001b[39;49m\u001b[43m)\u001b[49m \u001b[38;5;28;01mas\u001b[39;00m f:\n\u001b[0;32m      8\u001b[0m         result \u001b[38;5;241m=\u001b[39m pickle\u001b[38;5;241m.\u001b[39mload(f)\n\u001b[0;32m      9\u001b[0m     \u001b[38;5;28;01mif\u001b[39;00m \u001b[38;5;28misinstance\u001b[39m(result, \u001b[38;5;28mlist\u001b[39m):\n",
      "File \u001b[1;32md:\\anaconda3\\envs\\gptapi\\lib\\site-packages\\IPython\\core\\interactiveshell.py:310\u001b[0m, in \u001b[0;36m_modified_open\u001b[1;34m(file, *args, **kwargs)\u001b[0m\n\u001b[0;32m    303\u001b[0m \u001b[38;5;28;01mif\u001b[39;00m file \u001b[38;5;129;01min\u001b[39;00m {\u001b[38;5;241m0\u001b[39m, \u001b[38;5;241m1\u001b[39m, \u001b[38;5;241m2\u001b[39m}:\n\u001b[0;32m    304\u001b[0m     \u001b[38;5;28;01mraise\u001b[39;00m \u001b[38;5;167;01mValueError\u001b[39;00m(\n\u001b[0;32m    305\u001b[0m         \u001b[38;5;124mf\u001b[39m\u001b[38;5;124m\"\u001b[39m\u001b[38;5;124mIPython won\u001b[39m\u001b[38;5;124m'\u001b[39m\u001b[38;5;124mt let you open fd=\u001b[39m\u001b[38;5;132;01m{\u001b[39;00mfile\u001b[38;5;132;01m}\u001b[39;00m\u001b[38;5;124m by default \u001b[39m\u001b[38;5;124m\"\u001b[39m\n\u001b[0;32m    306\u001b[0m         \u001b[38;5;124m\"\u001b[39m\u001b[38;5;124mas it is likely to crash IPython. If you know what you are doing, \u001b[39m\u001b[38;5;124m\"\u001b[39m\n\u001b[0;32m    307\u001b[0m         \u001b[38;5;124m\"\u001b[39m\u001b[38;5;124myou can use builtins\u001b[39m\u001b[38;5;124m'\u001b[39m\u001b[38;5;124m open.\u001b[39m\u001b[38;5;124m\"\u001b[39m\n\u001b[0;32m    308\u001b[0m     )\n\u001b[1;32m--> 310\u001b[0m \u001b[38;5;28;01mreturn\u001b[39;00m io_open(file, \u001b[38;5;241m*\u001b[39margs, \u001b[38;5;241m*\u001b[39m\u001b[38;5;241m*\u001b[39mkwargs)\n",
      "\u001b[1;31mFileNotFoundError\u001b[0m: [Errno 2] No such file or directory: './result/math/base-9/gpt-3.5-turbo-0613/method_selfdenoise/log_ICL_3clean_origin_case300.pkl'"
     ]
    }
   ],
   "source": [
    "dataset = \"math\"\n",
    "sub_task = \"base-9\"\n",
    "method = \"selfdenoise\"\n",
    "case_num = 300\n",
    "if_ICL = True\n",
    "shot_num = 3\n",
    "if_noise = False\n",
    "noise_type = \"inaccurate\"\n",
    "noise_ratio = 0.5\n",
    "reason_num = 10\n",
    "\n",
    "if not if_ICL:\n",
    "    file_path = f\"./result/{dataset}/{sub_task}/gpt-3.5-turbo-0613/method_{method}/log_origin_case{case_num}\"\n",
    "else:    \n",
    "    if not if_noise:\n",
    "        file_path = f\"./result/{dataset}/{sub_task}/gpt-3.5-turbo-0613/method_{method}/log_ICL_{shot_num}clean_origin_case{case_num}\"\n",
    "    else:\n",
    "        file_path = f\"./result/{dataset}/{sub_task}/gpt-3.5-turbo-0613/method_{method}/log_ICL_0clean_noise_3{noise_type}_fixed_ratio{noise_ratio}_case{case_num}\"\n",
    "if method == \"basemodel\":\n",
    "    file_path += f\"_temp1_n{reason_num}\"\n",
    "log_file = file_path+\".log\"\n",
    "file_path += \".pkl\"\n",
    "# reset_acc(log_file, case_num, reason_num)\n",
    "\n"
   ]
  },
  {
   "cell_type": "code",
   "execution_count": null,
   "metadata": {},
   "outputs": [],
   "source": [
    "print(file_path)\n",
    "pkl = my_pickle(file_path)\n",
    "print(pkl.correct_num, pkl.error_num)"
   ]
  },
  {
   "cell_type": "code",
   "execution_count": 42,
   "metadata": {},
   "outputs": [
    {
     "name": "stdout",
     "output_type": "stream",
     "text": [
      "acc:0.059666666666666666, correct num: 179, err num: 2802\n"
     ]
    },
    {
     "data": {
      "text/plain": [
       "(0.059666666666666666, 179, 2802)"
      ]
     },
     "execution_count": 42,
     "metadata": {},
     "output_type": "execute_result"
    }
   ],
   "source": [
    "# save_case_num = 300\n",
    "# save_reason_num = 5\n",
    "pkl.avg_acc(300, 10)\n",
    "# file_path =  f\"./result/base_math/base-9/gpt-3.5-turbo-0613/method_basemodel/log_ICL_0clean_noise_3{noise_type}_fixed_ratio{noise_ratio}_case{save_case_num}_temp1_n{save_reason_num}.log\""
   ]
  },
  {
   "cell_type": "code",
   "execution_count": 43,
   "metadata": {},
   "outputs": [
    {
     "name": "stdout",
     "output_type": "stream",
     "text": [
      "vote_correct_num:26, vaild_num:300, vote_correct_num:0.08666666666666667\n"
     ]
    }
   ],
   "source": [
    "# for vote\n",
    "pkl.vote(300, 5)"
   ]
  }
 ],
 "metadata": {
  "kernelspec": {
   "display_name": "gptapi",
   "language": "python",
   "name": "python3"
  },
  "language_info": {
   "codemirror_mode": {
    "name": "ipython",
    "version": 3
   },
   "file_extension": ".py",
   "mimetype": "text/x-python",
   "name": "python",
   "nbconvert_exporter": "python",
   "pygments_lexer": "ipython3",
   "version": "3.9.18"
  }
 },
 "nbformat": 4,
 "nbformat_minor": 2
}
