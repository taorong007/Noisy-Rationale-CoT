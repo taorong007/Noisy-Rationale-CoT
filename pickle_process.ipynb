{
 "cells": [
  {
   "cell_type": "markdown",
   "metadata": {},
   "source": [
    "## process pickle result for statistics info"
   ]
  },
  {
   "cell_type": "code",
   "execution_count": 2,
   "metadata": {},
   "outputs": [],
   "source": [
    "import os\n",
    "import pickle\n",
    "# load pickle\n",
    "class my_pickle:\n",
    "    def __init__(self, file_path) -> None:\n",
    "        with open(file_path, 'rb') as f:\n",
    "            result = pickle.load(f)\n",
    "        if isinstance(result, list):\n",
    "            version = \"old\"\n",
    "        elif isinstance(result, dict):\n",
    "            version = \"new\"\n",
    "        else:\n",
    "            raise ValueError(\"not dict or list type\")\n",
    "        if version == \"old\":\n",
    "            [self.correct_num, self.error_num, self.answers_list, self.contents_list] = result\n",
    "        else:\n",
    "            self.correct_num = result[\"correct_num\"]\n",
    "            self.error_num = result[\"error_num\"]\n",
    "            self.answers_list = result[\"answers_list\"]\n",
    "            self.contents_list = result[\"contents_list\"]\n",
    "        \n",
    "    def avg_acc(self, case_num, reason_num):\n",
    "        correct_num = 0\n",
    "        error_num = 0\n",
    "        for case_id in range(case_num):\n",
    "            case_answers = self.answers_list[case_id]\n",
    "            for answer_id in range(reason_num):\n",
    "                answer = case_answers[answer_id]\n",
    "                if isinstance(answer, list):\n",
    "                    if answer[1] == 1:\n",
    "                        correct_num += 1  \n",
    "                    else: \n",
    "                        error_num += 1\n",
    "        print(\"acc:{}, correct num: {}, err num: {}\".format(correct_num / (error_num + correct_num), correct_num, error_num))\n",
    "        \n",
    "        return correct_num / (error_num + correct_num), correct_num, error_num\n",
    "    \n",
    "    def vote(self, case_num, reason_num):\n",
    "        from collections import Counter\n",
    "        valid_count = 0\n",
    "        vote_right_count = 0\n",
    "        for case_id in range(case_num):\n",
    "            answers = self.answers_list[case_id][:reason_num]\n",
    "            answers = [answer for answer in answers if isinstance(answer, list)]  # clean answers\n",
    "            if len(answers) == 0:\n",
    "                continue\n",
    "            else:\n",
    "                valid_count += 1\n",
    "            second_elements_are_1 = [sublist[1] == 1 for sublist in answers]\n",
    "            any_second_element_is_1 = any(second_elements_are_1)\n",
    "            if not any_second_element_is_1:\n",
    "                continue\n",
    "            true_answer = next((sublist[0] for sublist in answers if sublist[1] == 1), None)\n",
    "            counter = Counter(sublist[0] for sublist in answers)\n",
    "            guess_value, _ = counter.most_common(1)[0]\n",
    "            if guess_value == true_answer:\n",
    "                vote_right_count += 1\n",
    "\n",
    "        print(\"vote_correct_num:{}, vaild_num:{}, vote_correct_num:{}\".format(vote_right_count, valid_count, vote_right_count / valid_count))        \n",
    "        "
   ]
  },
  {
   "cell_type": "code",
   "execution_count": 60,
   "metadata": {},
   "outputs": [],
   "source": [
    "dataset = \"SCAN\"\n",
    "sub_task = \"simple\"\n",
    "method = \"baseline\"\n",
    "case_num = 500\n",
    "if_ICL = True\n",
    "shot_num = 3\n",
    "if_noise = True\n",
    "noise_type = \"inaccurate\"\n",
    "noise_ratio = 0.8\n",
    "\n"
   ]
  },
  {
   "cell_type": "code",
   "execution_count": 61,
   "metadata": {},
   "outputs": [
    {
     "name": "stdout",
     "output_type": "stream",
     "text": [
      "./result/SCAN/simple/gpt-3.5-turbo-0613/method_baseline/log_ICL_0clean_noise_3inaccurate_fixed_ratio0.8_case500_temp1_n10.pkl\n",
      "1184 3804\n"
     ]
    }
   ],
   "source": [
    "if not if_ICL:\n",
    "    file_path = f\"./result/{dataset}/{sub_task}/gpt-3.5-turbo-0613/method_{method}/log_origin_case{case_num}\"\n",
    "else:    \n",
    "    if not if_noise:\n",
    "        file_path = f\"./result/{dataset}/{sub_task}/gpt-3.5-turbo-0613/method_{method}/log_ICL_{shot_num}clean_origin_case{case_num}\"\n",
    "        \n",
    "    else:\n",
    "        file_path = f\"./result/{dataset}/{sub_task}/gpt-3.5-turbo-0613/method_{method}/log_ICL_0clean_noise_3{noise_type}_fixed_ratio{noise_ratio}_case{case_num}\"\n",
    "if method == \"baseline\":\n",
    "    file_path += \"_temp1_n10\"\n",
    "file_path += \".pkl\"\n",
    "print(file_path)\n",
    "pkl = my_pickle(file_path)\n",
    "print(pkl.correct_num, pkl.error_num)"
   ]
  },
  {
   "cell_type": "code",
   "execution_count": 62,
   "metadata": {},
   "outputs": [
    {
     "name": "stdout",
     "output_type": "stream",
     "text": [
      "acc:0.22719679251587035, correct num: 680, err num: 2313\n"
     ]
    },
    {
     "data": {
      "text/plain": [
       "(0.22719679251587035, 680, 2313)"
      ]
     },
     "execution_count": 62,
     "metadata": {},
     "output_type": "execute_result"
    }
   ],
   "source": [
    "# save_case_num = 300\n",
    "# save_reason_num = 5\n",
    "pkl.avg_acc(300, 10)\n",
    "# file_path =  f\"./result/base_math/base-9/gpt-3.5-turbo-0613/method_baseline/log_ICL_0clean_noise_3{noise_type}_fixed_ratio{noise_ratio}_case{save_case_num}_temp1_n{save_reason_num}.log\""
   ]
  },
  {
   "cell_type": "code",
   "execution_count": 63,
   "metadata": {},
   "outputs": [
    {
     "name": "stdout",
     "output_type": "stream",
     "text": [
      "vote_correct_num:78, vaild_num:300, vote_correct_num:0.26\n"
     ]
    }
   ],
   "source": [
    "# for vote\n",
    "pkl.vote(300, 5)"
   ]
  }
 ],
 "metadata": {
  "kernelspec": {
   "display_name": "gptapi",
   "language": "python",
   "name": "python3"
  },
  "language_info": {
   "codemirror_mode": {
    "name": "ipython",
    "version": 3
   },
   "file_extension": ".py",
   "mimetype": "text/x-python",
   "name": "python",
   "nbconvert_exporter": "python",
   "pygments_lexer": "ipython3",
   "version": "3.9.18"
  }
 },
 "nbformat": 4,
 "nbformat_minor": 2
}
