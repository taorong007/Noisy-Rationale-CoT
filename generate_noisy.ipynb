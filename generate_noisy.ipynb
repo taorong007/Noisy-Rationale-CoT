{
 "cells": [
  {
   "cell_type": "code",
   "execution_count": 7,
   "metadata": {},
   "outputs": [],
   "source": [
    "import llm_model.my_gpt as gpt \n",
    "import data_process.base_math.base_math as base_math\n",
    "import random\n",
    "import os\n",
    "model = gpt.my_gpt(model=\"gpt-4\")\n",
    "base = 9\n",
    "dataprocessor = base_math.base_math(base=base, noisy_level=3)"
   ]
  },
  {
   "cell_type": "code",
   "execution_count": 8,
   "metadata": {},
   "outputs": [],
   "source": [
    "dataset = dataprocessor.load_data()"
   ]
  },
  {
   "cell_type": "code",
   "execution_count": 9,
   "metadata": {},
   "outputs": [
    {
     "data": {
      "text/plain": [
       "'In base-9, the digits are \"012345678\". We have 4 + 8 = 10 in base-10. Since we\\'re in base-9, that doesn\\'t exceed the maximum value of 8 for a single digit. 10 mod 9 = 0, so the digit is 0 and the carry is 1. We have 1 + 4 + 0 = 3 in base 10. 3 mod 9 = 5, so the digit is 5 and the carry is 0. A leading digit 1. So the answer is 150. Answer:\\\\box{150}'"
      ]
     },
     "execution_count": 9,
     "metadata": {},
     "output_type": "execute_result"
    }
   ],
   "source": [
    "dataprocessor.arithmetic_error_answer(\"14+48\")"
   ]
  }
 ],
 "metadata": {
  "kernelspec": {
   "display_name": "gptapi",
   "language": "python",
   "name": "python3"
  },
  "language_info": {
   "codemirror_mode": {
    "name": "ipython",
    "version": 3
   },
   "file_extension": ".py",
   "mimetype": "text/x-python",
   "name": "python",
   "nbconvert_exporter": "python",
   "pygments_lexer": "ipython3",
   "version": "3.9.18"
  }
 },
 "nbformat": 4,
 "nbformat_minor": 2
}
