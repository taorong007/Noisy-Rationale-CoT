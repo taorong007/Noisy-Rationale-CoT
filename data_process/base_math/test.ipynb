{
 "cells": [
  {
   "cell_type": "code",
   "execution_count": 15,
   "metadata": {},
   "outputs": [],
   "source": [
    "import numpy as np\n",
    "\n",
    "def get_label(base, expr):\n",
    "    lhs, rhs = expr.split(\"+\")\n",
    "    lhs_base10 = int(lhs, base)\n",
    "    rhs_base10 = int(rhs, base)\n",
    "    sum_base10 = lhs_base10 + rhs_base10\n",
    "    return np.base_repr(sum_base10, base)\n",
    "def has_carry(base, expr):\n",
    "    lhs, rhs = expr.split(\"+\")\n",
    "    lt, lo = lhs  # tens, ones\n",
    "    rt, ro = rhs\n",
    "    ones_sum = get_label(base, f\"{lo}+{ro}\")\n",
    "    carry_over = len(ones_sum) > 1\n",
    "    tens_sum_wo_carry = get_label(base, f\"{lt}+{rt}\")\n",
    "    if carry_over:\n",
    "        assert ones_sum[0] == \"1\"\n",
    "        tens_sum_w_carry = get_label(base, f\"{tens_sum_wo_carry}+1\")\n",
    "    else:\n",
    "        tens_sum_w_carry = tens_sum_wo_carry\n",
    "    assert get_label(base, expr) == tens_sum_w_carry + ones_sum[-1:]\n",
    "    tens_carry_over = len(tens_sum_w_carry) > 1\n",
    "    \n",
    "    if tens_carry_over or carry_over:\n",
    "        return True\n",
    "    else:\n",
    "        return False"
   ]
  },
  {
   "cell_type": "code",
   "execution_count": 22,
   "metadata": {},
   "outputs": [
    {
     "data": {
      "text/plain": [
       "True"
      ]
     },
     "execution_count": 22,
     "metadata": {},
     "output_type": "execute_result"
    }
   ],
   "source": [
    "has_carry(9, \"88+16\")"
   ]
  },
  {
   "cell_type": "code",
   "execution_count": 23,
   "metadata": {},
   "outputs": [],
   "source": [
    "digits = \"012345678\"\n",
    "\n",
    "all_q = dict()\n",
    "string_list = [f\"{i1}{i2}+{j1}{j2}\" for i1 in digits[1:] for i2 in digits\n",
    "                                  for j1 in digits[1:] for j2 in digits] \n",
    "for addition in string_list:\n",
    "    if has_carry(9, addition):\n",
    "        all_q[addition] = 0"
   ]
  },
  {
   "cell_type": "code",
   "execution_count": 24,
   "metadata": {},
   "outputs": [
    {
     "data": {
      "text/plain": [
       "3924"
      ]
     },
     "execution_count": 24,
     "metadata": {},
     "output_type": "execute_result"
    }
   ],
   "source": [
    "len(all_q)"
   ]
  },
  {
   "cell_type": "code",
   "execution_count": 27,
   "metadata": {},
   "outputs": [
    {
     "ename": "FileNotFoundError",
     "evalue": "[Errno 2] No such file or directory: './data/base_math/icl/base9.txt'",
     "output_type": "error",
     "traceback": [
      "\u001b[1;31m---------------------------------------------------------------------------\u001b[0m",
      "\u001b[1;31mFileNotFoundError\u001b[0m                         Traceback (most recent call last)",
      "Cell \u001b[1;32mIn[27], line 2\u001b[0m\n\u001b[0;32m      1\u001b[0m file_name \u001b[38;5;241m=\u001b[39m \u001b[38;5;124m\"\u001b[39m\u001b[38;5;124m./data/base_math/icl/base9.txt\u001b[39m\u001b[38;5;124m\"\u001b[39m\n\u001b[1;32m----> 2\u001b[0m \u001b[38;5;28;01mwith\u001b[39;00m \u001b[38;5;28;43mopen\u001b[39;49m\u001b[43m(\u001b[49m\u001b[43mfile_name\u001b[49m\u001b[43m,\u001b[49m\u001b[43m \u001b[49m\u001b[38;5;124;43m\"\u001b[39;49m\u001b[38;5;124;43mr\u001b[39;49m\u001b[38;5;124;43m\"\u001b[39;49m\u001b[43m)\u001b[49m \u001b[38;5;28;01mas\u001b[39;00m f:\n\u001b[0;32m      3\u001b[0m     dataset \u001b[38;5;241m=\u001b[39m [[line\u001b[38;5;241m.\u001b[39mstrip()\u001b[38;5;241m.\u001b[39msplit(\u001b[38;5;124m\"\u001b[39m\u001b[38;5;130;01m\\t\u001b[39;00m\u001b[38;5;124m\"\u001b[39m)[\u001b[38;5;241m0\u001b[39m] \u001b[38;5;28;01mfor\u001b[39;00m line \u001b[38;5;129;01min\u001b[39;00m f]]\n\u001b[0;32m      4\u001b[0m dataset\n",
      "File \u001b[1;32md:\\anaconda3\\envs\\gptapi\\lib\\site-packages\\IPython\\core\\interactiveshell.py:310\u001b[0m, in \u001b[0;36m_modified_open\u001b[1;34m(file, *args, **kwargs)\u001b[0m\n\u001b[0;32m    303\u001b[0m \u001b[38;5;28;01mif\u001b[39;00m file \u001b[38;5;129;01min\u001b[39;00m {\u001b[38;5;241m0\u001b[39m, \u001b[38;5;241m1\u001b[39m, \u001b[38;5;241m2\u001b[39m}:\n\u001b[0;32m    304\u001b[0m     \u001b[38;5;28;01mraise\u001b[39;00m \u001b[38;5;167;01mValueError\u001b[39;00m(\n\u001b[0;32m    305\u001b[0m         \u001b[38;5;124mf\u001b[39m\u001b[38;5;124m\"\u001b[39m\u001b[38;5;124mIPython won\u001b[39m\u001b[38;5;124m'\u001b[39m\u001b[38;5;124mt let you open fd=\u001b[39m\u001b[38;5;132;01m{\u001b[39;00mfile\u001b[38;5;132;01m}\u001b[39;00m\u001b[38;5;124m by default \u001b[39m\u001b[38;5;124m\"\u001b[39m\n\u001b[0;32m    306\u001b[0m         \u001b[38;5;124m\"\u001b[39m\u001b[38;5;124mas it is likely to crash IPython. If you know what you are doing, \u001b[39m\u001b[38;5;124m\"\u001b[39m\n\u001b[0;32m    307\u001b[0m         \u001b[38;5;124m\"\u001b[39m\u001b[38;5;124myou can use builtins\u001b[39m\u001b[38;5;124m'\u001b[39m\u001b[38;5;124m open.\u001b[39m\u001b[38;5;124m\"\u001b[39m\n\u001b[0;32m    308\u001b[0m     )\n\u001b[1;32m--> 310\u001b[0m \u001b[38;5;28;01mreturn\u001b[39;00m io_open(file, \u001b[38;5;241m*\u001b[39margs, \u001b[38;5;241m*\u001b[39m\u001b[38;5;241m*\u001b[39mkwargs)\n",
      "\u001b[1;31mFileNotFoundError\u001b[0m: [Errno 2] No such file or directory: './data/base_math/icl/base9.txt'"
     ]
    }
   ],
   "source": [
    "file_name = \"./data/base_math/icl/base9.txt\"\n",
    "with open(file_name, \"r\") as f:\n",
    "    dataset = [[line.strip().split(\"\\t\")[0] for line in f]]\n",
    "dataset"
   ]
  },
  {
   "cell_type": "code",
   "execution_count": 4,
   "metadata": {},
   "outputs": [],
   "source": [
    "import numpy as np\n",
    "\n",
    "\n",
    "def get_label(expr, base):\n",
    "    lhs, rhs = expr.split(\"+\")\n",
    "    lhs_base10 = int(lhs, base)\n",
    "    rhs_base10 = int(rhs, base)\n",
    "    sum_base10 = lhs_base10 + rhs_base10\n",
    "    return np.base_repr(sum_base10, base)"
   ]
  },
  {
   "cell_type": "markdown",
   "metadata": {},
   "source": [
    "We add the ones digits first. In base-9, 6+7=14. So the ones digit of the final sum is 4. We need to carry over the 1 to the tens place. Then we add the tens digits. In base-9, 8+5=14. Since we carried over the 1, 14+1=15. So the hundreds and tens digits of the final sum are 15. Putting the digits of the final sum together, we get \\\\boxed{154}."
   ]
  },
  {
   "cell_type": "code",
   "execution_count": 7,
   "metadata": {},
   "outputs": [
    {
     "data": {
      "text/plain": [
       "'111'"
      ]
     },
     "execution_count": 7,
     "metadata": {},
     "output_type": "execute_result"
    }
   ],
   "source": [
    "get_label(\"26+74\", 9)"
   ]
  },
  {
   "cell_type": "code",
   "execution_count": 3,
   "metadata": {},
   "outputs": [
    {
     "name": "stdout",
     "output_type": "stream",
     "text": [
      "Start\n",
      "End\n"
     ]
    }
   ],
   "source": [
    "import time\n",
    "\n",
    "print(\"Start\")\n",
    "\n",
    "# Sleep for 1 second\n",
    "time.sleep(1)\n",
    "\n",
    "print(\"End\")"
   ]
  },
  {
   "cell_type": "code",
   "execution_count": null,
   "metadata": {},
   "outputs": [],
   "source": [
    "26+54\t\n",
    "38+48\n",
    "26+74"
   ]
  },
  {
   "cell_type": "markdown",
   "metadata": {},
   "source": [
    "\n",
    "user: in base-9, what is 26+54?  end the response with the result in \\\"Answer:\\\\boxed{{result}}\n",
    "assistant: We have 6 + 4 = 10 in base 10. Since we're in base-9, that exceeds the maximum value of 8 for a single digit. 10 mod 9 = 1, so the digit is 1 and the carry is 1. We have 2 + 5 + 1 = 8 in base 10. 8 mod 9 = 8, so the digit is 8 and the carry is 0. A leading digit 0. So the answer is 81. Answer://box{81}\n",
    "user: in base-9, what is 38+48?  end the response with the result in \\\"Answer:\\\\boxed{{result}}\n",
    "assistant: We have 8 + 8 = 16 in base 10. Since we're in base-9, that exceeds the maximum value of 8 for a single digit. 16 mod 9 = 7, so the digit is 7 and the carry is 1. We have 3 + 4 + 1 = 8 in base 10. 8 mod 9 = 8, so the digit is 8 and the carry is 0. A leading digit 0. So the answer is 87. Answer://box{87}\n",
    "user: in base-9, what is 26+74?  end the response with the result in \\\"Answer:\\\\boxed{{result}}\n",
    "assistant: We have 6 + 4 = 10 in base 10. Since we're in base-9, that exceeds the maximum value of 8 for a single digit. 10 mod 9 = 1, so the digit is 1 and the carry is 1. We have 2 + 7 + 1 = 10 in base 10. 10 mod 9 = 1, so the digit is 8 and the carry is 1. A leading digit 1. So the answer is 111. Answer://box{111}\n"
   ]
  },
  {
   "cell_type": "code",
   "execution_count": 5,
   "metadata": {},
   "outputs": [
    {
     "name": "stdout",
     "output_type": "stream",
     "text": [
      "user:You are a mathematician. Assuming that all numbers are in base-9 where the digits are \"012345678\", what is 26+54? Let's think step by step, and end the response with the result in \"Answer:\\boxed{{result}}\n",
      "assistant:We have 6 + 4 = 10 in base 10. Since we're in base-9, that exceeds the maximum value of 8 for a single digit. 10 mod 9 = 1, so the digit is 1 and the carry is 1. We have 2 + 5 + 1 = 8 in base 10. 8 mod 9 = 8, so the digit is 8 and the carry is 0. A leading digit 0. So the answer is 81. Answer://box{81}\n",
      "user:You are a mathematician. Assuming that all numbers are in base-9 where the digits are \"012345678\", what is 38+48? Let's think step by step, and end the response with the result in \"Answer:\\boxed{{result}}\n",
      "assistant:We have 8 + 8 = 16 in base 10. Since we're in base-9, that exceeds the maximum value of 8 for a single digit. 16 mod 9 = 7, so the digit is 7 and the carry is 1. We have 3 + 4 + 1 = 8 in base 10. 8 mod 9 = 8, so the digit is 8 and the carry is 0. A leading digit 0. So the answer is 87. Answer://box{87}\n",
      "user:You are a mathematician. Assuming that all numbers are in base-9 where the digits are \"012345678\", what is 26+74? Let's think step by step, and end the response with the result in \"Answer:\\boxed{{result}}\n",
      "assistant:We have 6 + 4 = 10 in base 10. Since we're in base-9, that exceeds the maximum value of 8 for a single digit. 10 mod 9 = 1, so the digit is 1 and the carry is 1. We have 2 + 7 + 1 = 10 in base 10. 10 mod 9 = 1, so the digit is 8 and the carry is 1. A leading digit 1. So the answer is 111. Answer:\\box{111}\n",
      "\n"
     ]
    }
   ],
   "source": [
    "print(\"user:in base-9, what is 26+54? Let\\'s think step by step, and end the response with the result in \\\"Answer:\\\\boxed{{result}}\\nassistant:We have 6 + 4 = 10 in base 10. Since we\\'re in base-9, that exceeds the maximum value of 8 for a single digit. 10 mod 9 = 1, so the digit is 1 and the carry is 1. We have 2 + 5 + 1 = 8 in base 10. 8 mod 9 = 8, so the digit is 8 and the carry is 0. A leading digit 0. So the answer is 81. Answer://box{81}\\nuser:in base-9, what is 38+48? Let\\'s think step by step, and end the response with the result in \\\"Answer:\\\\boxed{{result}}\\nassistant:We have 8 + 8 = 16 in base 10. Since we\\'re in base-9, that exceeds the maximum value of 8 for a single digit. 16 mod 9 = 7, so the digit is 7 and the carry is 1. We have 3 + 4 + 1 = 8 in base 10. 8 mod 9 = 8, so the digit is 8 and the carry is 0. A leading digit 0. So the answer is 87. Answer://box{87}\\nuser:in base-9, what is 26+74? Let\\'s think step by step, and end the response with the result in \\\"Answer:\\\\boxed{{result}}\\nassistant:We have 6 + 4 = 10 in base 10. Since we\\'re in base-9, that exceeds the maximum value of 8 for a single digit. 10 mod 9 = 1, so the digit is 1 and the carry is 1. We have 2 + 7 + 1 = 10 in base 10. 10 mod 9 = 1, so the digit is 8 and the carry is 1. A leading digit 1. So the answer is 111. Answer:\\\\box{111}\\n\")"
   ]
  },
  {
   "cell_type": "code",
   "execution_count": 9,
   "metadata": {},
   "outputs": [
    {
     "name": "stdout",
     "output_type": "stream",
     "text": [
      "user:in base-9, what is 26+54?\n",
      " assistant:We have 6 + 4 = 10 in base 10. Since we're in base-9, that exceeds the maximum value of 8 for a single digit. 10 mod 9 = 1, so the digit is 1 and the carry is 1. We have 2 + 5 + 1 = 8 in base 10. 8 mod 9 = 8, so the digit is 8 and the carry is 0. A leading digit 0. So the answer is 81. Answer://box{81}\n",
      "user:in base-9, what is 38+48? \n",
      "assistant:We have 8 + 8 = 16 in base 10. Since we're in base-9, that exceeds the maximum value of 8 for a single digit. 16 mod 9 = 7, so the digit is 7 and the carry is 1. We have 3 + 4 + 1 = 8 in base 10. 8 mod 9 = 8, so the digit is 8 and the carry is 0. A leading digit 0. So the answer is 87. Answer://box{87}\n",
      "user:in base-9, what is 26+74? \n",
      "assistant:We have 6 + 4 = 10 in base 10. Since we're in base-9, that exceeds the maximum value of 8 for a single digit. 10 mod 9 = 1, so the digit is 1 and the carry is 1. We have 2 + 7 + 1 = 10 in base 10. 10 mod 9 = 1, so the digit is 8 and the carry is 1. A leading digit 1. So the answer is 111. Answer://box{111}\n",
      "in base-9, what is 76+14\n"
     ]
    }
   ],
   "source": [
    "print(\"user:in base-9, what is 26+54?\\n assistant:We have 6 + 4 = 10 in base 10. Since we're in base-9, that exceeds the maximum value of 8 for a single digit. 10 mod 9 = 1, so the digit is 1 and the carry is 1. We have 2 + 5 + 1 = 8 in base 10. 8 mod 9 = 8, so the digit is 8 and the carry is 0. A leading digit 0. So the answer is 81. Answer://box{81}\\nuser:in base-9, what is 38+48? \\nassistant:We have 8 + 8 = 16 in base 10. Since we're in base-9, that exceeds the maximum value of 8 for a single digit. 16 mod 9 = 7, so the digit is 7 and the carry is 1. We have 3 + 4 + 1 = 8 in base 10. 8 mod 9 = 8, so the digit is 8 and the carry is 0. A leading digit 0. So the answer is 87. Answer://box{87}\\nuser:in base-9, what is 26+74? \\nassistant:We have 6 + 4 = 10 in base 10. Since we're in base-9, that exceeds the maximum value of 8 for a single digit. 10 mod 9 = 1, so the digit is 1 and the carry is 1. We have 2 + 7 + 1 = 10 in base 10. 10 mod 9 = 1, so the digit is 8 and the carry is 1. A leading digit 1. So the answer is 111. Answer://box{111}\\nin base-9, what is 76+14\")"
   ]
  },
  {
   "cell_type": "code",
   "execution_count": 11,
   "metadata": {},
   "outputs": [
    {
     "data": {
      "text/plain": [
       "[]"
      ]
     },
     "execution_count": 11,
     "metadata": {},
     "output_type": "execute_result"
    }
   ],
   "source": [
    "\n",
    "temp = [[\n",
    "    \n",
    "    \"You are a mathematician. Assuming that all numbers are in base-9 where the digits are \\\"012345678\\\", what is 26+54? Let's think step by step, and end the response with the result in \\\"Answer:\\\\boxed{{result}}\", \n",
    "    \"We have 6 + 4 = 10 in base 10. Since we're in base-9, that exceeds the maximum value of 8 for a single digit. 10 mod 9 = 1, so the digit is 1 and the carry is 1. We have 2 + 5 + 1 = 8 in base 10. 8 mod 9 = 8, so the digit is 8 and the carry is 0. A leading digit 0. So the answer is 81. Answer://box{81}\"],\n",
    "        [\n",
    "            \"You are a mathematician. Assuming that all numbers are in base-9 where the digits are \\\"012345678\\\", what is 38+48? Let's think step by step, and end the response with the result in \\\"Answer:\\\\boxed{{result}}\",\n",
    "            \"We have 8 + 8 = 16 in base 10. Since we're in base-9, that exceeds the maximum value of 8 for a single digit. 16 mod 9 = 7, so the digit is 7 and the carry is 1. We have 3 + 4 + 1 = 8 in base 10. 8 mod 9 = 8, so the digit is 8 and the carry is 0. A leading digit 0. So the answer is 87. Answer://box{87}\"\n",
    "        ],\n",
    "        [\n",
    "            \"You are a mathematician. Assuming that all numbers are in base-9 where the digits are \\\"012345678\\\", what is 26+74? Let's think step by step, and end the response with the result in \\\"Answer:\\\\boxed{{result}}\",\n",
    "            \"We have 6 + 4 = 10 in base 10. Since we're in base-9, that exceeds the maximum value of 8 for a single digit. 10 mod 9 = 1, so the digit is 1 and the carry is 1. We have 2 + 7 + 1 = 10 in base 10. 10 mod 9 = 1, so the digit is 8 and the carry is 1. A leading digit 1. So the answer is 111. Answer://box{111}\"\n",
    "        ]]\n",
    "\n",
    "temp[:0]"
   ]
  },
  {
   "cell_type": "code",
   "execution_count": null,
   "metadata": {},
   "outputs": [],
   "source": [
    "\n",
    "\"To add 33 and 68 in base-9, we can perform the addition as follows:\\n\\n        33\\n      + 68\\n    ------\\n       101\\n\\nTherefore, the result is 101 in base-9.\\n\\nAnswer: $\\\\boxed{101}$.\"\n",
    "\n",
    "\"To find the sum of 52 + 72 in base-9, we need to perform the addition by considering the base-9 digits.\\n\\nStarting from the rightmost column, we add the digits:\\n\\n  2\\n+ 2\\n-----\\n  4\\n\\nNext, we move to the leftmost column:\\n\\n  5\\n+ 7\\n-----\\n 14\\n\\nIn base-9, the digit \\\"14\\\" is represented by \\\"10\\\", where we carry over one unit to the left. Thus, we have:\\n\\n  5\\n+ 7\\n-----\\n 10\\n\\nSo, the sum of 52 + 72 in base-9 is 100 (one hundred).\\n\\nAnswer: $\\\\boxed{100}$.\"\n"
   ]
  },
  {
   "cell_type": "code",
   "execution_count": 14,
   "metadata": {},
   "outputs": [
    {
     "name": "stdout",
     "output_type": "stream",
     "text": [
      "We add the ones digits first. In base-9, 3+8=12. So the ones digit of the final sum is 2. We need to carry over the 1 to the tens place. Then we add the tens digits. In base-9, 3+6=10. Since we carried over the 1, 10+1=11. So the hundreds and tens digits of the final sum are 11. Putting the digits of the final sum together, we get\n",
      " Answer:\\boxed{112}.\n"
     ]
    }
   ],
   "source": [
    "import base_math \n",
    "test = base_math.base_math(9, 1, 3)\n",
    "print(test.answer(\"33+68\"))"
   ]
  },
  {
   "cell_type": "code",
   "execution_count": 17,
   "metadata": {},
   "outputs": [
    {
     "name": "stdout",
     "output_type": "stream",
     "text": [
      "We have 5 + 0 = 5 in base-10. Since we're in base-9, that exceeds the maximum value of 8 for a single digit. 5 mod 9 = 5, so the digit is 5 and the carry is 0. We have 6 + 3 + 0 = 9 in base 10. 9 mod 9 = 0, so the digit is 0 and the carry is 1. A leading digit 1. So the answer is 105. Answer://box{105}\n"
     ]
    }
   ],
   "source": [
    "print(test.ex_answer(\"65+30\"))"
   ]
  },
  {
   "cell_type": "code",
   "execution_count": 18,
   "metadata": {},
   "outputs": [
    {
     "name": "stdout",
     "output_type": "stream",
     "text": [
      "To add 33 and 68 in base-9, we can perform the addition as follows:\n",
      "\n",
      "        33\n",
      "      + 68\n",
      "    ------\n",
      "       101\n",
      "\n",
      "Therefore, the result is 101 in base-9.\n",
      "\n",
      "Answer: $\\boxed{101}$.\n"
     ]
    }
   ],
   "source": [
    "print(\"To add 33 and 68 in base-9, we can perform the addition as follows:\\n\\n        33\\n      + 68\\n    ------\\n       101\\n\\nTherefore, the result is 101 in base-9.\\n\\nAnswer: $\\\\boxed{101}$.\")"
   ]
  },
  {
   "cell_type": "code",
   "execution_count": 19,
   "metadata": {},
   "outputs": [
    {
     "name": "stdout",
     "output_type": "stream",
     "text": [
      "We have 3 + 8 = 11 in base-10. Since we're in base-9, that exceeds the maximum value of 8 for a single digit. 11 mod 9 = 2, so the digit is 2 and the carry is 1. We have 3 + 6 = 9 in base 10. 9 mod 9 = 0, so the digit is 0 and the carry is 1. A leading digit 1. So the answer is 102. Answer://box{102}\n"
     ]
    }
   ],
   "source": [
    "print(\"We have 3 + 8 = 11 in base-10. Since we're in base-9, that exceeds the maximum value of 8 for a single digit. 11 mod 9 = 2, so the digit is 2 and the carry is 1. We have 3 + 6 = 9 in base 10. 9 mod 9 = 0, so the digit is 0 and the carry is 1. A leading digit 1. So the answer is 102. Answer://box{102}\")"
   ]
  }
 ],
 "metadata": {
  "kernelspec": {
   "display_name": "gptapi",
   "language": "python",
   "name": "python3"
  },
  "language_info": {
   "codemirror_mode": {
    "name": "ipython",
    "version": 3
   },
   "file_extension": ".py",
   "mimetype": "text/x-python",
   "name": "python",
   "nbconvert_exporter": "python",
   "pygments_lexer": "ipython3",
   "version": "3.9.18"
  }
 },
 "nbformat": 4,
 "nbformat_minor": 2
}
